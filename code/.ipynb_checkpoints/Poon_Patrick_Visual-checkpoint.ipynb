{
 "cells": [
  {
   "cell_type": "code",
   "execution_count": 33,
   "metadata": {
    "ExecuteTime": {
     "end_time": "2021-01-21T23:31:42.682167Z",
     "start_time": "2021-01-21T23:31:41.052834Z"
    }
   },
   "outputs": [],
   "source": [
    "import numpy as np\n",
    "import pandas as pd\n",
    "import plotly.express as px\n",
    "import plotly.graph_objects as go\n",
    "import matplotlib.pyplot as plt\n",
    "import boto3\n",
    "import string\n",
    "import re"
   ]
  },
  {
   "cell_type": "code",
   "execution_count": 2,
   "metadata": {
    "ExecuteTime": {
     "end_time": "2021-01-21T23:32:54.187673Z",
     "start_time": "2021-01-21T23:32:54.182359Z"
    }
   },
   "outputs": [],
   "source": [
    "# Spam messages and count of total per category\n",
    "\n",
    "\n",
    "data = [((1, u'Clothing_Shoes_and_Jewelry'), 6701), ((1, u'Toys_and_Games'), 3660), ((0, u'Electronics'), 243421), ((0, u'Sports_and_Outdoors'), 245343), ((1, u'Electronics'), 3175), ((0, u'Cell_Phones_and_Accessories'), 254268), ((1, u'Cell_Phones_and_Accessories'), 6283), ((0, u'Home_and_Kitchen'), 261986), ((1, u'Home_and_Kitchen'), 2255), ((1, u'Sports_and_Outdoors'), 8939), ((0, u'Toys_and_Games'), 250975), ((0, u'Clothing_Shoes_and_Jewelry'), 237228)]"
   ]
  },
  {
   "cell_type": "code",
   "execution_count": 28,
   "metadata": {
    "ExecuteTime": {
     "end_time": "2021-01-21T23:51:37.483617Z",
     "start_time": "2021-01-21T23:51:37.462987Z"
    }
   },
   "outputs": [
    {
     "data": {
      "text/html": [
       "<div>\n",
       "<style scoped>\n",
       "    .dataframe tbody tr th:only-of-type {\n",
       "        vertical-align: middle;\n",
       "    }\n",
       "\n",
       "    .dataframe tbody tr th {\n",
       "        vertical-align: top;\n",
       "    }\n",
       "\n",
       "    .dataframe thead th {\n",
       "        text-align: right;\n",
       "    }\n",
       "</style>\n",
       "<table border=\"1\" class=\"dataframe\">\n",
       "  <thead>\n",
       "    <tr style=\"text-align: right;\">\n",
       "      <th></th>\n",
       "      <th>Spam</th>\n",
       "      <th>Category</th>\n",
       "      <th>Count_Reviews</th>\n",
       "    </tr>\n",
       "  </thead>\n",
       "  <tbody>\n",
       "    <tr>\n",
       "      <th>0</th>\n",
       "      <td>spam</td>\n",
       "      <td>Clothing_Shoes_and_Jewelry</td>\n",
       "      <td>6701</td>\n",
       "    </tr>\n",
       "    <tr>\n",
       "      <th>1</th>\n",
       "      <td>spam</td>\n",
       "      <td>Toys_and_Games</td>\n",
       "      <td>3660</td>\n",
       "    </tr>\n",
       "    <tr>\n",
       "      <th>2</th>\n",
       "      <td>not spam</td>\n",
       "      <td>Electronics</td>\n",
       "      <td>243421</td>\n",
       "    </tr>\n",
       "    <tr>\n",
       "      <th>3</th>\n",
       "      <td>not spam</td>\n",
       "      <td>Sports_and_Outdoors</td>\n",
       "      <td>245343</td>\n",
       "    </tr>\n",
       "    <tr>\n",
       "      <th>4</th>\n",
       "      <td>spam</td>\n",
       "      <td>Electronics</td>\n",
       "      <td>3175</td>\n",
       "    </tr>\n",
       "    <tr>\n",
       "      <th>5</th>\n",
       "      <td>not spam</td>\n",
       "      <td>Cell_Phones_and_Accessories</td>\n",
       "      <td>254268</td>\n",
       "    </tr>\n",
       "    <tr>\n",
       "      <th>6</th>\n",
       "      <td>spam</td>\n",
       "      <td>Cell_Phones_and_Accessories</td>\n",
       "      <td>6283</td>\n",
       "    </tr>\n",
       "    <tr>\n",
       "      <th>7</th>\n",
       "      <td>not spam</td>\n",
       "      <td>Home_and_Kitchen</td>\n",
       "      <td>261986</td>\n",
       "    </tr>\n",
       "    <tr>\n",
       "      <th>8</th>\n",
       "      <td>spam</td>\n",
       "      <td>Home_and_Kitchen</td>\n",
       "      <td>2255</td>\n",
       "    </tr>\n",
       "    <tr>\n",
       "      <th>9</th>\n",
       "      <td>spam</td>\n",
       "      <td>Sports_and_Outdoors</td>\n",
       "      <td>8939</td>\n",
       "    </tr>\n",
       "    <tr>\n",
       "      <th>10</th>\n",
       "      <td>not spam</td>\n",
       "      <td>Toys_and_Games</td>\n",
       "      <td>250975</td>\n",
       "    </tr>\n",
       "    <tr>\n",
       "      <th>11</th>\n",
       "      <td>not spam</td>\n",
       "      <td>Clothing_Shoes_and_Jewelry</td>\n",
       "      <td>237228</td>\n",
       "    </tr>\n",
       "  </tbody>\n",
       "</table>\n",
       "</div>"
      ],
      "text/plain": [
       "        Spam                     Category  Count_Reviews\n",
       "0       spam   Clothing_Shoes_and_Jewelry           6701\n",
       "1       spam               Toys_and_Games           3660\n",
       "2   not spam                  Electronics         243421\n",
       "3   not spam          Sports_and_Outdoors         245343\n",
       "4       spam                  Electronics           3175\n",
       "5   not spam  Cell_Phones_and_Accessories         254268\n",
       "6       spam  Cell_Phones_and_Accessories           6283\n",
       "7   not spam             Home_and_Kitchen         261986\n",
       "8       spam             Home_and_Kitchen           2255\n",
       "9       spam          Sports_and_Outdoors           8939\n",
       "10  not spam               Toys_and_Games         250975\n",
       "11  not spam   Clothing_Shoes_and_Jewelry         237228"
      ]
     },
     "execution_count": 28,
     "metadata": {},
     "output_type": "execute_result"
    }
   ],
   "source": [
    "working = []\n",
    "for item in data:\n",
    "    if item[0][0] == 1:\n",
    "        working.append(['spam', item[0][1], item[1]])\n",
    "    if item[0][0] == 0:\n",
    "        working.append(['not spam', item[0][1], item[1]])\n",
    "df_spam_cat_count_reviews = pd.DataFrame(working,columns = [\"Spam\",\"Category\",\"Count_Reviews\"])\n",
    "df_spam_cat_count_reviews"
   ]
  },
  {
   "cell_type": "code",
   "execution_count": 29,
   "metadata": {
    "ExecuteTime": {
     "end_time": "2021-01-22T03:34:00.694910Z",
     "start_time": "2021-01-22T03:34:00.690196Z"
    }
   },
   "outputs": [],
   "source": [
    "spam_overall = [((0, u'Home_and_Kitchen'), 2.8062301038986814), ((0, u'Clothing_Shoes_and_Jewelry'), 3.0823258637260356), ((0, u'Cell_Phones_and_Accessories'), 2.7989050922648544), ((1, u'Cell_Phones_and_Accessories'), 3.0741683908960686), ((0, u'Toys_and_Games'), 2.929220041836836), ((1, u'Home_and_Kitchen'), 3.4190687361419068), ((0, u'Sports_and_Outdoors'), 3.015366242362733), ((0, u'Electronics'), 2.7882310893472626), ((1, u'Sports_and_Outdoors'), 3.011522541671328), ((1, u'Toys_and_Games'), 3.5863387978142076), ((1, u'Electronics'), 3.0935433070866143), ((1, u'Clothing_Shoes_and_Jewelry'), 3.231308759886584)]"
   ]
  },
  {
   "cell_type": "code",
   "execution_count": 30,
   "metadata": {
    "ExecuteTime": {
     "end_time": "2021-01-22T03:34:45.148348Z",
     "start_time": "2021-01-22T03:34:45.134452Z"
    }
   },
   "outputs": [
    {
     "data": {
      "text/html": [
       "<div>\n",
       "<style scoped>\n",
       "    .dataframe tbody tr th:only-of-type {\n",
       "        vertical-align: middle;\n",
       "    }\n",
       "\n",
       "    .dataframe tbody tr th {\n",
       "        vertical-align: top;\n",
       "    }\n",
       "\n",
       "    .dataframe thead th {\n",
       "        text-align: right;\n",
       "    }\n",
       "</style>\n",
       "<table border=\"1\" class=\"dataframe\">\n",
       "  <thead>\n",
       "    <tr style=\"text-align: right;\">\n",
       "      <th></th>\n",
       "      <th>Spam</th>\n",
       "      <th>Category</th>\n",
       "      <th>Overall_avg</th>\n",
       "    </tr>\n",
       "  </thead>\n",
       "  <tbody>\n",
       "    <tr>\n",
       "      <th>0</th>\n",
       "      <td>not spam</td>\n",
       "      <td>Home_and_Kitchen</td>\n",
       "      <td>2.806230</td>\n",
       "    </tr>\n",
       "    <tr>\n",
       "      <th>1</th>\n",
       "      <td>not spam</td>\n",
       "      <td>Clothing_Shoes_and_Jewelry</td>\n",
       "      <td>3.082326</td>\n",
       "    </tr>\n",
       "    <tr>\n",
       "      <th>2</th>\n",
       "      <td>not spam</td>\n",
       "      <td>Cell_Phones_and_Accessories</td>\n",
       "      <td>2.798905</td>\n",
       "    </tr>\n",
       "    <tr>\n",
       "      <th>3</th>\n",
       "      <td>spam</td>\n",
       "      <td>Cell_Phones_and_Accessories</td>\n",
       "      <td>3.074168</td>\n",
       "    </tr>\n",
       "    <tr>\n",
       "      <th>4</th>\n",
       "      <td>not spam</td>\n",
       "      <td>Toys_and_Games</td>\n",
       "      <td>2.929220</td>\n",
       "    </tr>\n",
       "    <tr>\n",
       "      <th>5</th>\n",
       "      <td>spam</td>\n",
       "      <td>Home_and_Kitchen</td>\n",
       "      <td>3.419069</td>\n",
       "    </tr>\n",
       "    <tr>\n",
       "      <th>6</th>\n",
       "      <td>not spam</td>\n",
       "      <td>Sports_and_Outdoors</td>\n",
       "      <td>3.015366</td>\n",
       "    </tr>\n",
       "    <tr>\n",
       "      <th>7</th>\n",
       "      <td>not spam</td>\n",
       "      <td>Electronics</td>\n",
       "      <td>2.788231</td>\n",
       "    </tr>\n",
       "    <tr>\n",
       "      <th>8</th>\n",
       "      <td>spam</td>\n",
       "      <td>Sports_and_Outdoors</td>\n",
       "      <td>3.011523</td>\n",
       "    </tr>\n",
       "    <tr>\n",
       "      <th>9</th>\n",
       "      <td>spam</td>\n",
       "      <td>Toys_and_Games</td>\n",
       "      <td>3.586339</td>\n",
       "    </tr>\n",
       "    <tr>\n",
       "      <th>10</th>\n",
       "      <td>spam</td>\n",
       "      <td>Electronics</td>\n",
       "      <td>3.093543</td>\n",
       "    </tr>\n",
       "    <tr>\n",
       "      <th>11</th>\n",
       "      <td>spam</td>\n",
       "      <td>Clothing_Shoes_and_Jewelry</td>\n",
       "      <td>3.231309</td>\n",
       "    </tr>\n",
       "  </tbody>\n",
       "</table>\n",
       "</div>"
      ],
      "text/plain": [
       "        Spam                     Category  Overall_avg\n",
       "0   not spam             Home_and_Kitchen     2.806230\n",
       "1   not spam   Clothing_Shoes_and_Jewelry     3.082326\n",
       "2   not spam  Cell_Phones_and_Accessories     2.798905\n",
       "3       spam  Cell_Phones_and_Accessories     3.074168\n",
       "4   not spam               Toys_and_Games     2.929220\n",
       "5       spam             Home_and_Kitchen     3.419069\n",
       "6   not spam          Sports_and_Outdoors     3.015366\n",
       "7   not spam                  Electronics     2.788231\n",
       "8       spam          Sports_and_Outdoors     3.011523\n",
       "9       spam               Toys_and_Games     3.586339\n",
       "10      spam                  Electronics     3.093543\n",
       "11      spam   Clothing_Shoes_and_Jewelry     3.231309"
      ]
     },
     "execution_count": 30,
     "metadata": {},
     "output_type": "execute_result"
    }
   ],
   "source": [
    "working = []\n",
    "for item in spam_overall:\n",
    "    if item[0][0] == 1:\n",
    "        working.append(['spam', item[0][1], item[1]])\n",
    "    if item[0][0] == 0:\n",
    "        working.append(['not spam', item[0][1], item[1]])\n",
    "df_spam_cat_overall_rating = pd.DataFrame(working,columns = [\"Spam\",\"Category\",\"Overall_avg\"])\n",
    "df_spam_cat_overall_rating"
   ]
  },
  {
   "cell_type": "code",
   "execution_count": 31,
   "metadata": {},
   "outputs": [],
   "source": [
    "df_spam_count_reviews_overall_avg = pd.merge(df_spam_cat_count_reviews, df_spam_cat_overall_rating, how='left', left_on =['Spam','Category'], right_on =['Spam','Category'])"
   ]
  },
  {
   "cell_type": "code",
   "execution_count": 32,
   "metadata": {},
   "outputs": [
    {
     "data": {
      "text/html": [
       "<div>\n",
       "<style scoped>\n",
       "    .dataframe tbody tr th:only-of-type {\n",
       "        vertical-align: middle;\n",
       "    }\n",
       "\n",
       "    .dataframe tbody tr th {\n",
       "        vertical-align: top;\n",
       "    }\n",
       "\n",
       "    .dataframe thead th {\n",
       "        text-align: right;\n",
       "    }\n",
       "</style>\n",
       "<table border=\"1\" class=\"dataframe\">\n",
       "  <thead>\n",
       "    <tr style=\"text-align: right;\">\n",
       "      <th></th>\n",
       "      <th>Spam</th>\n",
       "      <th>Category</th>\n",
       "      <th>Count_Reviews</th>\n",
       "      <th>Overall_avg</th>\n",
       "    </tr>\n",
       "  </thead>\n",
       "  <tbody>\n",
       "    <tr>\n",
       "      <th>0</th>\n",
       "      <td>spam</td>\n",
       "      <td>Clothing_Shoes_and_Jewelry</td>\n",
       "      <td>6701</td>\n",
       "      <td>3.231309</td>\n",
       "    </tr>\n",
       "    <tr>\n",
       "      <th>1</th>\n",
       "      <td>spam</td>\n",
       "      <td>Toys_and_Games</td>\n",
       "      <td>3660</td>\n",
       "      <td>3.586339</td>\n",
       "    </tr>\n",
       "    <tr>\n",
       "      <th>2</th>\n",
       "      <td>not spam</td>\n",
       "      <td>Electronics</td>\n",
       "      <td>243421</td>\n",
       "      <td>2.788231</td>\n",
       "    </tr>\n",
       "    <tr>\n",
       "      <th>3</th>\n",
       "      <td>not spam</td>\n",
       "      <td>Sports_and_Outdoors</td>\n",
       "      <td>245343</td>\n",
       "      <td>3.015366</td>\n",
       "    </tr>\n",
       "    <tr>\n",
       "      <th>4</th>\n",
       "      <td>spam</td>\n",
       "      <td>Electronics</td>\n",
       "      <td>3175</td>\n",
       "      <td>3.093543</td>\n",
       "    </tr>\n",
       "    <tr>\n",
       "      <th>5</th>\n",
       "      <td>not spam</td>\n",
       "      <td>Cell_Phones_and_Accessories</td>\n",
       "      <td>254268</td>\n",
       "      <td>2.798905</td>\n",
       "    </tr>\n",
       "    <tr>\n",
       "      <th>6</th>\n",
       "      <td>spam</td>\n",
       "      <td>Cell_Phones_and_Accessories</td>\n",
       "      <td>6283</td>\n",
       "      <td>3.074168</td>\n",
       "    </tr>\n",
       "    <tr>\n",
       "      <th>7</th>\n",
       "      <td>not spam</td>\n",
       "      <td>Home_and_Kitchen</td>\n",
       "      <td>261986</td>\n",
       "      <td>2.806230</td>\n",
       "    </tr>\n",
       "    <tr>\n",
       "      <th>8</th>\n",
       "      <td>spam</td>\n",
       "      <td>Home_and_Kitchen</td>\n",
       "      <td>2255</td>\n",
       "      <td>3.419069</td>\n",
       "    </tr>\n",
       "    <tr>\n",
       "      <th>9</th>\n",
       "      <td>spam</td>\n",
       "      <td>Sports_and_Outdoors</td>\n",
       "      <td>8939</td>\n",
       "      <td>3.011523</td>\n",
       "    </tr>\n",
       "    <tr>\n",
       "      <th>10</th>\n",
       "      <td>not spam</td>\n",
       "      <td>Toys_and_Games</td>\n",
       "      <td>250975</td>\n",
       "      <td>2.929220</td>\n",
       "    </tr>\n",
       "    <tr>\n",
       "      <th>11</th>\n",
       "      <td>not spam</td>\n",
       "      <td>Clothing_Shoes_and_Jewelry</td>\n",
       "      <td>237228</td>\n",
       "      <td>3.082326</td>\n",
       "    </tr>\n",
       "  </tbody>\n",
       "</table>\n",
       "</div>"
      ],
      "text/plain": [
       "        Spam                     Category  Count_Reviews  Overall_avg\n",
       "0       spam   Clothing_Shoes_and_Jewelry           6701     3.231309\n",
       "1       spam               Toys_and_Games           3660     3.586339\n",
       "2   not spam                  Electronics         243421     2.788231\n",
       "3   not spam          Sports_and_Outdoors         245343     3.015366\n",
       "4       spam                  Electronics           3175     3.093543\n",
       "5   not spam  Cell_Phones_and_Accessories         254268     2.798905\n",
       "6       spam  Cell_Phones_and_Accessories           6283     3.074168\n",
       "7   not spam             Home_and_Kitchen         261986     2.806230\n",
       "8       spam             Home_and_Kitchen           2255     3.419069\n",
       "9       spam          Sports_and_Outdoors           8939     3.011523\n",
       "10  not spam               Toys_and_Games         250975     2.929220\n",
       "11  not spam   Clothing_Shoes_and_Jewelry         237228     3.082326"
      ]
     },
     "execution_count": 32,
     "metadata": {},
     "output_type": "execute_result"
    }
   ],
   "source": [
    "df_spam_count_reviews_overall_avg"
   ]
  },
  {
   "cell_type": "code",
   "execution_count": 36,
   "metadata": {},
   "outputs": [],
   "source": [
    "fig = go.Figure()"
   ]
  },
  {
   "cell_type": "code",
   "execution_count": null,
   "metadata": {},
   "outputs": [],
   "source": []
  },
  {
   "cell_type": "code",
   "execution_count": null,
   "metadata": {},
   "outputs": [],
   "source": []
  },
  {
   "cell_type": "code",
   "execution_count": null,
   "metadata": {},
   "outputs": [],
   "source": []
  },
  {
   "cell_type": "code",
   "execution_count": 24,
   "metadata": {},
   "outputs": [],
   "source": [
    "spam_reviewID_path = '/Users/pkpoon/Documents/School/Winter/msds697/Project/data/spam_reviewID_helpful.txt'"
   ]
  },
  {
   "cell_type": "code",
   "execution_count": 25,
   "metadata": {},
   "outputs": [],
   "source": [
    "spam_reviewID = []\n",
    "with open(spam_reviewID_path, 'r') as f:\n",
    "    for line in f:\n",
    "        spam_reviewID.append(line)\n",
    "working = [line.split(\",\") for line in spam_reviewID]"
   ]
  },
  {
   "cell_type": "code",
   "execution_count": 26,
   "metadata": {},
   "outputs": [
    {
     "data": {
      "text/plain": [
       "['0', 'A3TKSUEV4E9PV6', '3']"
      ]
     },
     "execution_count": 26,
     "metadata": {},
     "output_type": "execute_result"
    }
   ],
   "source": [
    "spam_reviewID_lst = []\n",
    "for item in working:\n",
    "    spam_reviewID_lst.append([item[0][2], ''.join(re.findall(r\"'([^']*)'\", item[1])), item[2][1]])\n",
    "spam_reviewID_lst[0]"
   ]
  },
  {
   "cell_type": "code",
   "execution_count": null,
   "metadata": {},
   "outputs": [],
   "source": []
  },
  {
   "cell_type": "code",
   "execution_count": 27,
   "metadata": {},
   "outputs": [
    {
     "data": {
      "text/html": [
       "<div>\n",
       "<style scoped>\n",
       "    .dataframe tbody tr th:only-of-type {\n",
       "        vertical-align: middle;\n",
       "    }\n",
       "\n",
       "    .dataframe tbody tr th {\n",
       "        vertical-align: top;\n",
       "    }\n",
       "\n",
       "    .dataframe thead th {\n",
       "        text-align: right;\n",
       "    }\n",
       "</style>\n",
       "<table border=\"1\" class=\"dataframe\">\n",
       "  <thead>\n",
       "    <tr style=\"text-align: right;\">\n",
       "      <th></th>\n",
       "      <th>Spam</th>\n",
       "      <th>ReviewerID</th>\n",
       "      <th>count_reviews</th>\n",
       "    </tr>\n",
       "  </thead>\n",
       "  <tbody>\n",
       "    <tr>\n",
       "      <th>0</th>\n",
       "      <td>not spam</td>\n",
       "      <td>A3TKSUEV4E9PV6</td>\n",
       "      <td>3</td>\n",
       "    </tr>\n",
       "    <tr>\n",
       "      <th>1</th>\n",
       "      <td>not spam</td>\n",
       "      <td>A563DWTSKZD49</td>\n",
       "      <td>1</td>\n",
       "    </tr>\n",
       "    <tr>\n",
       "      <th>2</th>\n",
       "      <td>not spam</td>\n",
       "      <td>A3J5L6UEFFMBG2</td>\n",
       "      <td>1</td>\n",
       "    </tr>\n",
       "    <tr>\n",
       "      <th>3</th>\n",
       "      <td>not spam</td>\n",
       "      <td>AH6PVAUDSPPG0</td>\n",
       "      <td>1</td>\n",
       "    </tr>\n",
       "    <tr>\n",
       "      <th>4</th>\n",
       "      <td>not spam</td>\n",
       "      <td>A368NHKLHMRNUV</td>\n",
       "      <td>1</td>\n",
       "    </tr>\n",
       "    <tr>\n",
       "      <th>...</th>\n",
       "      <td>...</td>\n",
       "      <td>...</td>\n",
       "      <td>...</td>\n",
       "    </tr>\n",
       "    <tr>\n",
       "      <th>1287375</th>\n",
       "      <td>not spam</td>\n",
       "      <td>A1X3RVTR23AEZX</td>\n",
       "      <td>1</td>\n",
       "    </tr>\n",
       "    <tr>\n",
       "      <th>1287376</th>\n",
       "      <td>not spam</td>\n",
       "      <td>A4KF54B7EPE2Q</td>\n",
       "      <td>1</td>\n",
       "    </tr>\n",
       "    <tr>\n",
       "      <th>1287377</th>\n",
       "      <td>not spam</td>\n",
       "      <td>AET38LB1SB7PT</td>\n",
       "      <td>1</td>\n",
       "    </tr>\n",
       "    <tr>\n",
       "      <th>1287378</th>\n",
       "      <td>not spam</td>\n",
       "      <td>AM4A6JLXB8YGE</td>\n",
       "      <td>1</td>\n",
       "    </tr>\n",
       "    <tr>\n",
       "      <th>1287379</th>\n",
       "      <td>not spam</td>\n",
       "      <td>A1DZ9LEAN4U66I</td>\n",
       "      <td>1</td>\n",
       "    </tr>\n",
       "  </tbody>\n",
       "</table>\n",
       "<p>1287380 rows × 3 columns</p>\n",
       "</div>"
      ],
      "text/plain": [
       "             Spam      ReviewerID count_reviews\n",
       "0        not spam  A3TKSUEV4E9PV6             3\n",
       "1        not spam   A563DWTSKZD49             1\n",
       "2        not spam  A3J5L6UEFFMBG2             1\n",
       "3        not spam   AH6PVAUDSPPG0             1\n",
       "4        not spam  A368NHKLHMRNUV             1\n",
       "...           ...             ...           ...\n",
       "1287375  not spam  A1X3RVTR23AEZX             1\n",
       "1287376  not spam   A4KF54B7EPE2Q             1\n",
       "1287377  not spam   AET38LB1SB7PT             1\n",
       "1287378  not spam   AM4A6JLXB8YGE             1\n",
       "1287379  not spam  A1DZ9LEAN4U66I             1\n",
       "\n",
       "[1287380 rows x 3 columns]"
      ]
     },
     "execution_count": 27,
     "metadata": {},
     "output_type": "execute_result"
    }
   ],
   "source": [
    "working2 = []\n",
    "for item in spam_reviewID_lst:\n",
    "    if item[0] == '1':\n",
    "        working2.append(['spam', item[1], item[2]])\n",
    "    if item[0] == '0':\n",
    "        working2.append(['not spam', item[1], item[2]])\n",
    "df_spam_count_reviews = pd.DataFrame(working2,columns = [\"Spam\",\"ReviewerID\",\"count_reviews\"])\n",
    "df_spam_count_reviews"
   ]
  },
  {
   "cell_type": "code",
   "execution_count": 34,
   "metadata": {},
   "outputs": [],
   "source": [
    "fig = go.Figure()\n",
    "fig.add_trace(\n",
    "    go.bar(x=))"
   ]
  },
  {
   "cell_type": "code",
   "execution_count": null,
   "metadata": {},
   "outputs": [],
   "source": []
  },
  {
   "cell_type": "code",
   "execution_count": null,
   "metadata": {},
   "outputs": [],
   "source": []
  },
  {
   "cell_type": "code",
   "execution_count": null,
   "metadata": {},
   "outputs": [],
   "source": []
  },
  {
   "cell_type": "code",
   "execution_count": 48,
   "metadata": {},
   "outputs": [],
   "source": [
    "spam_full_path = '/Users/pkpoon/Documents/School/Winter/msds697/Project/data/spam_reviewID_helpful_full.txt'"
   ]
  },
  {
   "cell_type": "code",
   "execution_count": 49,
   "metadata": {},
   "outputs": [
    {
     "data": {
      "text/plain": [
       "['((1', \" u'A1PHTLAKH5TDHR')\", ' [0.0', ' 0.0])\\n']"
      ]
     },
     "execution_count": 49,
     "metadata": {},
     "output_type": "execute_result"
    }
   ],
   "source": [
    "spam_full = []\n",
    "with open(spam_full_path, 'r') as f:\n",
    "    for line in f:\n",
    "        spam_full.append(line)\n",
    "working = [line.split(\",\") for line in spam_full]\n",
    "working[0]"
   ]
  },
  {
   "cell_type": "code",
   "execution_count": null,
   "metadata": {},
   "outputs": [],
   "source": [
    "for item in working:\n",
    "    print(item[3])"
   ]
  },
  {
   "cell_type": "code",
   "execution_count": null,
   "metadata": {},
   "outputs": [],
   "source": []
  }
 ],
 "metadata": {
  "kernelspec": {
   "display_name": "Python 3",
   "language": "python",
   "name": "python3"
  },
  "language_info": {
   "codemirror_mode": {
    "name": "ipython",
    "version": 3
   },
   "file_extension": ".py",
   "mimetype": "text/x-python",
   "name": "python",
   "nbconvert_exporter": "python",
   "pygments_lexer": "ipython3",
   "version": "3.8.2"
  },
  "toc": {
   "base_numbering": 1,
   "nav_menu": {},
   "number_sections": true,
   "sideBar": true,
   "skip_h1_title": false,
   "title_cell": "Table of Contents",
   "title_sidebar": "Contents",
   "toc_cell": false,
   "toc_position": {},
   "toc_section_display": true,
   "toc_window_display": false
  }
 },
 "nbformat": 4,
 "nbformat_minor": 4
}
